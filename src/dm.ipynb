{
  "nbformat": 4,
  "nbformat_minor": 0,
  "metadata": {
    "colab": {
      "name": "dm.ipynb",
      "version": "0.3.2",
      "provenance": [],
      "collapsed_sections": []
    },
    "kernelspec": {
      "name": "python3",
      "display_name": "Python 3"
    },
    "accelerator": "GPU"
  },
  "cells": [
    {
      "metadata": {
        "id": "5DYC9iaLW60o",
        "colab_type": "text"
      },
      "cell_type": "markdown",
      "source": [
        "# To upload groceries.csv"
      ]
    },
    {
      "metadata": {
        "id": "QvnNro2zCSSD",
        "colab_type": "code",
        "outputId": "c8c23205-41f5-470c-fdac-8b13a2f92af9",
        "colab": {
          "resources": {
            "http://localhost:8080/nbextensions/google.colab/files.js": {
              "data": "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",
              "ok": true,
              "headers": [
                [
                  "content-type",
                  "application/javascript"
                ]
              ],
              "status": 200,
              "status_text": ""
            }
          },
          "base_uri": "https://localhost:8080/",
          "height": 91
        }
      },
      "cell_type": "code",
      "source": [
        "from google.colab import files\n",
        "\n",
        "uploaded = files.upload()\n",
        "\n",
        "for fn in uploaded.keys():\n",
        "  print('User uploaded file \"{name}\" with length {length} bytes'.format(\n",
        "      name=fn, length=len(uploaded[fn])))"
      ],
      "execution_count": 7,
      "outputs": [
        {
          "output_type": "display_data",
          "data": {
            "text/html": [
              "\n",
              "     <input type=\"file\" id=\"files-99a6e292-7a35-47fe-98f9-a194406685fe\" name=\"files[]\" multiple disabled />\n",
              "     <output id=\"result-99a6e292-7a35-47fe-98f9-a194406685fe\">\n",
              "      Upload widget is only available when the cell has been executed in the\n",
              "      current browser session. Please rerun this cell to enable.\n",
              "      </output>\n",
              "      <script src=\"/nbextensions/google.colab/files.js\"></script> "
            ],
            "text/plain": [
              "<IPython.core.display.HTML object>"
            ]
          },
          "metadata": {
            "tags": []
          }
        },
        {
          "output_type": "stream",
          "text": [
            "Saving groceries.csv to groceries.csv\n",
            "User uploaded file \"groceries.csv\" with length 510697 bytes\n"
          ],
          "name": "stdout"
        }
      ]
    },
    {
      "metadata": {
        "id": "_BnbofzRSHfl",
        "colab_type": "code",
        "colab": {}
      },
      "cell_type": "code",
      "source": [
        "from google.colab import files\n",
        "# files.download('c0.03.csv') \n",
        "files.download('c0.06.csv') \n",
        "files.download('c0.09.csv') \n",
        "files.download('s0.05.csv') \n"
      ],
      "execution_count": 0,
      "outputs": []
    },
    {
      "metadata": {
        "id": "kveHlcOKSVkA",
        "colab_type": "code",
        "colab": {
          "base_uri": "https://localhost:8080/",
          "height": 34
        },
        "outputId": "1a30a5d3-5a8c-4f53-8e18-4c68a887a29d"
      },
      "cell_type": "code",
      "source": [
        "!ls"
      ],
      "execution_count": 33,
      "outputs": [
        {
          "output_type": "stream",
          "text": [
            "c0.03.csv  c0.06.csv  c0.09.csv  groceries.csv\ts0.05.csv  sample_data\n"
          ],
          "name": "stdout"
        }
      ]
    },
    {
      "metadata": {
        "id": "d0eqFfhvXGlQ",
        "colab_type": "text"
      },
      "cell_type": "markdown",
      "source": [
        "# Install Anaconda"
      ]
    },
    {
      "metadata": {
        "id": "IQPYSfT9AwZk",
        "colab_type": "text"
      },
      "cell_type": "markdown",
      "source": [
        ""
      ]
    },
    {
      "metadata": {
        "id": "6HvGY93DH-Ed",
        "colab_type": "code",
        "colab": {}
      },
      "cell_type": "code",
      "source": [
        "!wget -c https://repo.continuum.io/archive/Anaconda2-5.3.1-Linux-x86_64.sh\n",
        "!chmod +x Anaconda2-5.3.1-Linux-x86_64.sh\n",
        "!bash ./Anaconda2-5.3.1-Linux-x86_64.sh -b -f -p /usr/local\n",
        "\n",
        "import sys\n",
        "sys.path.append('/usr/local/lib/python3.6/site-packages/')"
      ],
      "execution_count": 0,
      "outputs": []
    },
    {
      "metadata": {
        "id": "sNY-fnDuXOmn",
        "colab_type": "text"
      },
      "cell_type": "markdown",
      "source": [
        "# Code\n",
        "\n",
        "Run code in the code cells <br>\n",
        "The variables declared will be global i.e across all cells\n",
        "Make new code cells"
      ]
    },
    {
      "metadata": {
        "id": "-6bvEXErM1J3",
        "colab_type": "code",
        "outputId": "685579ca-1eff-4efc-a72f-159ea4798de0",
        "colab": {
          "base_uri": "https://localhost:8080/",
          "height": 185
        }
      },
      "cell_type": "code",
      "source": [
        "#Apriori\n",
        "# coding: utf-8\n",
        "\n",
        "# In[7]:\n",
        "\n",
        "\n",
        "import pandas as pd\n",
        "import numpy as np\n",
        "import csv\n",
        "import itertools\n",
        "from itertools import chain,combinations\n",
        "\n",
        "\n",
        "# In[185]:\n",
        "\n",
        "\n",
        "min_support = 0.09\n",
        "min_confidence = 0.005\n",
        "transactions = list()\n",
        "L1 = set()\n",
        "with open('groceries.csv',newline = '') as csvfile:\n",
        "    reader = csv.reader(csvfile)\n",
        "    for row in reader:\n",
        "        transactions.append(set(row))\n",
        "        for item in row:\n",
        "            L1.add(frozenset([item]))\n",
        "\n",
        "\n",
        "# In[186]:\n",
        "\n",
        "\n",
        "def pruned_itemset(global_support,itemset,minSupport,transactions):\n",
        "    set1 = set() #contains pruned set of items\n",
        "    supcount = dict() #stores support count for those pruned itemsets\n",
        "    for item in itemset:\n",
        "        for _ in transactions:\n",
        "            if(set(item) <= set(_)):\n",
        "                if(item in supcount.keys()):\n",
        "                    supcount[item] += 1\n",
        "                else: supcount[item] = 1\n",
        "                if(item in global_support.keys()):\n",
        "                    global_support[item] += 1\n",
        "                else: global_support[item] = 1\n",
        "    for item,sup_count in supcount.items():\n",
        "        if(sup_count / len(transactions) >= minSupport):\n",
        "            set1.add(item)\n",
        "    return set1\n",
        "\n",
        "\n",
        "# In[187]:\n",
        "\n",
        "\n",
        "def self_join(Lset,k): #Here Lset is L(k-1), and Lset_k is L(k+1)\n",
        "    join = []\n",
        "    for set1 in Lset:\n",
        "        for set2 in Lset:\n",
        "            a = set1.union(set2)\n",
        "            if(len(a) == k):\n",
        "                join.append(a)\n",
        "    return(set(join))\n",
        "\n",
        "\n",
        "# In[188]:\n",
        "\n",
        "\n",
        "def Apriori(minSupport):\n",
        "    freq_itemsets = dict() #used to generate rules\n",
        "    all_itemset_support = dict()\n",
        "    k = 1\n",
        "    C = pruned_itemset(all_itemset_support,L1,min_support,transactions)\n",
        "    L = C\n",
        "    freq_itemsets[k] = L\n",
        "    k = k + 1\n",
        "    while(L != set()):\n",
        "        L = self_join(L,k)\n",
        "        C = pruned_itemset(all_itemset_support,L,min_support,transactions)\n",
        "        L = C\n",
        "        freq_itemsets[k] = L\n",
        "        k = k + 1    \n",
        "    return freq_itemsets,all_itemset_support\n",
        "\n",
        "\n",
        "# In[189]:\n",
        "\n",
        "\n",
        "a,b = Apriori(min_support)\n",
        "\n",
        "\n",
        "# In[190]:\n",
        "\n",
        "\n",
        "def gen_rules(min_confidence,a,b):\n",
        "    rules = []\n",
        "    c = list(a[2])\n",
        "    k = 2\n",
        "    while(c != list()):\n",
        "        for each in c:\n",
        "            temp = list(each)\n",
        "            u = chain(*[combinations(temp, i + 1) for i in range(len(temp))])\n",
        "            q = [x for x in u]\n",
        "            for _ in q:\n",
        "                p = frozenset(_)\n",
        "                diff = each.difference(p)\n",
        "                if(len(diff) > 0):\n",
        "                    conf = b[each] / b[p]\n",
        "                    if(conf >= min_confidence):\n",
        "                        rules.append([p,diff,conf])\n",
        "        k = k + 1\n",
        "        c = list(a[k])\n",
        "    return rules\n",
        "\n",
        "\n",
        "# In[191]:\n",
        "\n",
        "\n",
        "c = gen_rules(min_confidence,a,b)\n",
        "\n",
        "\n",
        "# In[192]:\n",
        "\n",
        "\n",
        "F = []\n",
        "q = a[1]\n",
        "k = 1\n",
        "while(q != set()):\n",
        "    for each in q:\n",
        "        F.append(each)\n",
        "    k = k + 1\n",
        "    q = a[k]\n",
        "\n",
        "\n",
        "# In[140]:\n",
        "\n",
        "\n",
        "with open('s0.05.csv','a') as file:\n",
        "    writer = csv.writer(file)\n",
        "    for _ in F:\n",
        "        row = [list(_),b[_]]\n",
        "        print(row)\n",
        "        writer.writerow(row)\n",
        "\n",
        "\n",
        "# In[193]:\n",
        "\n",
        "\n",
        "with open('c0.09.csv','a') as file:\n",
        "    writer = csv.writer(file)\n",
        "    for _ in c:\n",
        "        row = [list(map(list,_[0:-1])),_[-1]]\n",
        "        writer.writerow(row)\n",
        "\n",
        "\n",
        "# In[ ]:\n",
        "\n",
        "\n",
        "\n",
        "\n"
      ],
      "execution_count": 31,
      "outputs": [
        {
          "output_type": "stream",
          "text": [
            "[['other vegetables'], 1903]\n",
            "[['soda'], 1715]\n",
            "[['whole milk'], 2513]\n",
            "[['tropical fruit'], 1032]\n",
            "[['shopping bags'], 969]\n",
            "[['bottled water'], 1087]\n",
            "[['yogurt'], 1372]\n",
            "[['rolls/buns'], 1809]\n",
            "[['root vegetables'], 1072]\n",
            "[['sausage'], 924]\n"
          ],
          "name": "stdout"
        }
      ]
    },
    {
      "metadata": {
        "id": "1cWFvjegPA04",
        "colab_type": "code",
        "outputId": "013658f0-1db2-42a2-fdd6-a2ae1cf18dd7",
        "colab": {
          "base_uri": "https://localhost:8080/",
          "height": 837
        }
      },
      "cell_type": "code",
      "source": [
        "import pandas as pd\n",
        "dfx = pd.read_csv('c0.09.csv')\n",
        "print(dfx)"
      ],
      "execution_count": 32,
      "outputs": [
        {
          "output_type": "error",
          "ename": "EmptyDataError",
          "evalue": "ignored",
          "traceback": [
            "\u001b[0;31m---------------------------------------------------------------------------\u001b[0m",
            "\u001b[0;31mEmptyDataError\u001b[0m                            Traceback (most recent call last)",
            "\u001b[0;32m<ipython-input-32-b00c112a7301>\u001b[0m in \u001b[0;36m<module>\u001b[0;34m()\u001b[0m\n\u001b[1;32m      1\u001b[0m \u001b[0;32mimport\u001b[0m \u001b[0mpandas\u001b[0m \u001b[0;32mas\u001b[0m \u001b[0mpd\u001b[0m\u001b[0;34m\u001b[0m\u001b[0;34m\u001b[0m\u001b[0m\n\u001b[0;32m----> 2\u001b[0;31m \u001b[0mdfx\u001b[0m \u001b[0;34m=\u001b[0m \u001b[0mpd\u001b[0m\u001b[0;34m.\u001b[0m\u001b[0mread_csv\u001b[0m\u001b[0;34m(\u001b[0m\u001b[0;34m'c0.09.csv'\u001b[0m\u001b[0;34m)\u001b[0m\u001b[0;34m\u001b[0m\u001b[0;34m\u001b[0m\u001b[0m\n\u001b[0m\u001b[1;32m      3\u001b[0m \u001b[0mprint\u001b[0m\u001b[0;34m(\u001b[0m\u001b[0mdfx\u001b[0m\u001b[0;34m)\u001b[0m\u001b[0;34m\u001b[0m\u001b[0;34m\u001b[0m\u001b[0m\n",
            "\u001b[0;32m/usr/local/lib/python3.6/dist-packages/pandas/io/parsers.py\u001b[0m in \u001b[0;36mparser_f\u001b[0;34m(filepath_or_buffer, sep, delimiter, header, names, index_col, usecols, squeeze, prefix, mangle_dupe_cols, dtype, engine, converters, true_values, false_values, skipinitialspace, skiprows, nrows, na_values, keep_default_na, na_filter, verbose, skip_blank_lines, parse_dates, infer_datetime_format, keep_date_col, date_parser, dayfirst, iterator, chunksize, compression, thousands, decimal, lineterminator, quotechar, quoting, escapechar, comment, encoding, dialect, tupleize_cols, error_bad_lines, warn_bad_lines, skipfooter, skip_footer, doublequote, delim_whitespace, as_recarray, compact_ints, use_unsigned, low_memory, buffer_lines, memory_map, float_precision)\u001b[0m\n\u001b[1;32m    707\u001b[0m                     skip_blank_lines=skip_blank_lines)\n\u001b[1;32m    708\u001b[0m \u001b[0;34m\u001b[0m\u001b[0m\n\u001b[0;32m--> 709\u001b[0;31m         \u001b[0;32mreturn\u001b[0m \u001b[0m_read\u001b[0m\u001b[0;34m(\u001b[0m\u001b[0mfilepath_or_buffer\u001b[0m\u001b[0;34m,\u001b[0m \u001b[0mkwds\u001b[0m\u001b[0;34m)\u001b[0m\u001b[0;34m\u001b[0m\u001b[0;34m\u001b[0m\u001b[0m\n\u001b[0m\u001b[1;32m    710\u001b[0m \u001b[0;34m\u001b[0m\u001b[0m\n\u001b[1;32m    711\u001b[0m     \u001b[0mparser_f\u001b[0m\u001b[0;34m.\u001b[0m\u001b[0m__name__\u001b[0m \u001b[0;34m=\u001b[0m \u001b[0mname\u001b[0m\u001b[0;34m\u001b[0m\u001b[0;34m\u001b[0m\u001b[0m\n",
            "\u001b[0;32m/usr/local/lib/python3.6/dist-packages/pandas/io/parsers.py\u001b[0m in \u001b[0;36m_read\u001b[0;34m(filepath_or_buffer, kwds)\u001b[0m\n\u001b[1;32m    447\u001b[0m \u001b[0;34m\u001b[0m\u001b[0m\n\u001b[1;32m    448\u001b[0m     \u001b[0;31m# Create the parser.\u001b[0m\u001b[0;34m\u001b[0m\u001b[0;34m\u001b[0m\u001b[0;34m\u001b[0m\u001b[0m\n\u001b[0;32m--> 449\u001b[0;31m     \u001b[0mparser\u001b[0m \u001b[0;34m=\u001b[0m \u001b[0mTextFileReader\u001b[0m\u001b[0;34m(\u001b[0m\u001b[0mfilepath_or_buffer\u001b[0m\u001b[0;34m,\u001b[0m \u001b[0;34m**\u001b[0m\u001b[0mkwds\u001b[0m\u001b[0;34m)\u001b[0m\u001b[0;34m\u001b[0m\u001b[0;34m\u001b[0m\u001b[0m\n\u001b[0m\u001b[1;32m    450\u001b[0m \u001b[0;34m\u001b[0m\u001b[0m\n\u001b[1;32m    451\u001b[0m     \u001b[0;32mif\u001b[0m \u001b[0mchunksize\u001b[0m \u001b[0;32mor\u001b[0m \u001b[0miterator\u001b[0m\u001b[0;34m:\u001b[0m\u001b[0;34m\u001b[0m\u001b[0;34m\u001b[0m\u001b[0m\n",
            "\u001b[0;32m/usr/local/lib/python3.6/dist-packages/pandas/io/parsers.py\u001b[0m in \u001b[0;36m__init__\u001b[0;34m(self, f, engine, **kwds)\u001b[0m\n\u001b[1;32m    816\u001b[0m             \u001b[0mself\u001b[0m\u001b[0;34m.\u001b[0m\u001b[0moptions\u001b[0m\u001b[0;34m[\u001b[0m\u001b[0;34m'has_index_names'\u001b[0m\u001b[0;34m]\u001b[0m \u001b[0;34m=\u001b[0m \u001b[0mkwds\u001b[0m\u001b[0;34m[\u001b[0m\u001b[0;34m'has_index_names'\u001b[0m\u001b[0;34m]\u001b[0m\u001b[0;34m\u001b[0m\u001b[0;34m\u001b[0m\u001b[0m\n\u001b[1;32m    817\u001b[0m \u001b[0;34m\u001b[0m\u001b[0m\n\u001b[0;32m--> 818\u001b[0;31m         \u001b[0mself\u001b[0m\u001b[0;34m.\u001b[0m\u001b[0m_make_engine\u001b[0m\u001b[0;34m(\u001b[0m\u001b[0mself\u001b[0m\u001b[0;34m.\u001b[0m\u001b[0mengine\u001b[0m\u001b[0;34m)\u001b[0m\u001b[0;34m\u001b[0m\u001b[0;34m\u001b[0m\u001b[0m\n\u001b[0m\u001b[1;32m    819\u001b[0m \u001b[0;34m\u001b[0m\u001b[0m\n\u001b[1;32m    820\u001b[0m     \u001b[0;32mdef\u001b[0m \u001b[0mclose\u001b[0m\u001b[0;34m(\u001b[0m\u001b[0mself\u001b[0m\u001b[0;34m)\u001b[0m\u001b[0;34m:\u001b[0m\u001b[0;34m\u001b[0m\u001b[0;34m\u001b[0m\u001b[0m\n",
            "\u001b[0;32m/usr/local/lib/python3.6/dist-packages/pandas/io/parsers.py\u001b[0m in \u001b[0;36m_make_engine\u001b[0;34m(self, engine)\u001b[0m\n\u001b[1;32m   1047\u001b[0m     \u001b[0;32mdef\u001b[0m \u001b[0m_make_engine\u001b[0m\u001b[0;34m(\u001b[0m\u001b[0mself\u001b[0m\u001b[0;34m,\u001b[0m \u001b[0mengine\u001b[0m\u001b[0;34m=\u001b[0m\u001b[0;34m'c'\u001b[0m\u001b[0;34m)\u001b[0m\u001b[0;34m:\u001b[0m\u001b[0;34m\u001b[0m\u001b[0;34m\u001b[0m\u001b[0m\n\u001b[1;32m   1048\u001b[0m         \u001b[0;32mif\u001b[0m \u001b[0mengine\u001b[0m \u001b[0;34m==\u001b[0m \u001b[0;34m'c'\u001b[0m\u001b[0;34m:\u001b[0m\u001b[0;34m\u001b[0m\u001b[0;34m\u001b[0m\u001b[0m\n\u001b[0;32m-> 1049\u001b[0;31m             \u001b[0mself\u001b[0m\u001b[0;34m.\u001b[0m\u001b[0m_engine\u001b[0m \u001b[0;34m=\u001b[0m \u001b[0mCParserWrapper\u001b[0m\u001b[0;34m(\u001b[0m\u001b[0mself\u001b[0m\u001b[0;34m.\u001b[0m\u001b[0mf\u001b[0m\u001b[0;34m,\u001b[0m \u001b[0;34m**\u001b[0m\u001b[0mself\u001b[0m\u001b[0;34m.\u001b[0m\u001b[0moptions\u001b[0m\u001b[0;34m)\u001b[0m\u001b[0;34m\u001b[0m\u001b[0;34m\u001b[0m\u001b[0m\n\u001b[0m\u001b[1;32m   1050\u001b[0m         \u001b[0;32melse\u001b[0m\u001b[0;34m:\u001b[0m\u001b[0;34m\u001b[0m\u001b[0;34m\u001b[0m\u001b[0m\n\u001b[1;32m   1051\u001b[0m             \u001b[0;32mif\u001b[0m \u001b[0mengine\u001b[0m \u001b[0;34m==\u001b[0m \u001b[0;34m'python'\u001b[0m\u001b[0;34m:\u001b[0m\u001b[0;34m\u001b[0m\u001b[0;34m\u001b[0m\u001b[0m\n",
            "\u001b[0;32m/usr/local/lib/python3.6/dist-packages/pandas/io/parsers.py\u001b[0m in \u001b[0;36m__init__\u001b[0;34m(self, src, **kwds)\u001b[0m\n\u001b[1;32m   1693\u001b[0m         \u001b[0mkwds\u001b[0m\u001b[0;34m[\u001b[0m\u001b[0;34m'allow_leading_cols'\u001b[0m\u001b[0;34m]\u001b[0m \u001b[0;34m=\u001b[0m \u001b[0mself\u001b[0m\u001b[0;34m.\u001b[0m\u001b[0mindex_col\u001b[0m \u001b[0;32mis\u001b[0m \u001b[0;32mnot\u001b[0m \u001b[0;32mFalse\u001b[0m\u001b[0;34m\u001b[0m\u001b[0;34m\u001b[0m\u001b[0m\n\u001b[1;32m   1694\u001b[0m \u001b[0;34m\u001b[0m\u001b[0m\n\u001b[0;32m-> 1695\u001b[0;31m         \u001b[0mself\u001b[0m\u001b[0;34m.\u001b[0m\u001b[0m_reader\u001b[0m \u001b[0;34m=\u001b[0m \u001b[0mparsers\u001b[0m\u001b[0;34m.\u001b[0m\u001b[0mTextReader\u001b[0m\u001b[0;34m(\u001b[0m\u001b[0msrc\u001b[0m\u001b[0;34m,\u001b[0m \u001b[0;34m**\u001b[0m\u001b[0mkwds\u001b[0m\u001b[0;34m)\u001b[0m\u001b[0;34m\u001b[0m\u001b[0;34m\u001b[0m\u001b[0m\n\u001b[0m\u001b[1;32m   1696\u001b[0m \u001b[0;34m\u001b[0m\u001b[0m\n\u001b[1;32m   1697\u001b[0m         \u001b[0;31m# XXX\u001b[0m\u001b[0;34m\u001b[0m\u001b[0;34m\u001b[0m\u001b[0;34m\u001b[0m\u001b[0m\n",
            "\u001b[0;32mpandas/_libs/parsers.pyx\u001b[0m in \u001b[0;36mpandas._libs.parsers.TextReader.__cinit__\u001b[0;34m()\u001b[0m\n",
            "\u001b[0;31mEmptyDataError\u001b[0m: No columns to parse from file"
          ]
        }
      ]
    },
    {
      "metadata": {
        "id": "wvMFrbuxMhtQ",
        "colab_type": "text"
      },
      "cell_type": "markdown",
      "source": [
        ""
      ]
    },
    {
      "metadata": {
        "id": "GEUq34n7QR12",
        "colab_type": "code",
        "colab": {
          "base_uri": "https://localhost:8080/",
          "height": 34
        },
        "outputId": "45d85752-d9e0-49bf-db75-0b86e6b0153c"
      },
      "cell_type": "code",
      "source": [
        "!ls"
      ],
      "execution_count": 5,
      "outputs": [
        {
          "output_type": "stream",
          "text": [
            "sample_data\n"
          ],
          "name": "stdout"
        }
      ]
    },
    {
      "metadata": {
        "id": "iyOIt3JDhrfq",
        "colab_type": "code",
        "colab": {}
      },
      "cell_type": "code",
      "source": [
        "import csv\n",
        "\n",
        "min_support = 0.01\n",
        "min_confidence = 0.5\n",
        "transactions = list()\n",
        "L1 = set()\n",
        "with open('groceries.csv',newline = '') as csvfile:\n",
        "    reader = csv.reader(csvfile)\n",
        "    for row in reader:\n",
        "        transactions.append(set(row))\n",
        "        for item in row:\n",
        "            L1.add(frozenset([item])) \n",
        "\n",
        "def pruned_itemset(itemset,minSupport,transactions):\n",
        "    set1 = set() #contains pruned set of items\n",
        "    supcount = dict() #stores support count for those pruned itemsets\n",
        "    for item in itemset:\n",
        "        for _ in transactions:\n",
        "            if(set(item) <= set(_)):\n",
        "                if(item in supcount.keys()):\n",
        "                    supcount[item] += 1\n",
        "                else: supcount[item] = 1\n",
        "    for item,sup_count in supcount.items():\n",
        "        if(float(sup_count / len(transactions)) >= minSupport):\n",
        "            set1.add(item)\n",
        "    return set1\n",
        "\n",
        "def self_join(Lset,k): #Here Lset is L(k-1), and Lset_k is L(k+1)\n",
        "    join = []\n",
        "    for set1 in Lset:\n",
        "        for set2 in Lset:\n",
        "            a = set1.union(set2)\n",
        "            if(len(a) == k):\n",
        "                join.append(a)\n",
        "    return(set(join))\n",
        "  \n",
        "def Apriori(minSupport,minConfidence):\n",
        "    freq_itemsets = dict() #used to generate rules\n",
        "    k = 1\n",
        "    C = pruned_itemset(L1,min_support,transactions)\n",
        "    L = C\n",
        "    freq_itemsets[k] = L\n",
        "    k = k + 1\n",
        "    while(L != set()):\n",
        "        L = self_join(L,k)\n",
        "        C = pruned_itemset(L,min_support,transactions)\n",
        "        L = C\n",
        "        freq_itemsets[k] = L\n",
        "        k = k + 1    \n",
        "    return freq_itemsets\n",
        "  \n",
        "a = Apriori(min_support,min_confidence)"
      ],
      "execution_count": 0,
      "outputs": []
    },
    {
      "metadata": {
        "id": "oafinh_uox7U",
        "colab_type": "code",
        "outputId": "81f1a5fc-c69b-4af0-b279-eb1a2be168dc",
        "colab": {
          "base_uri": "https://localhost:8080/",
          "height": 104
        }
      },
      "cell_type": "code",
      "source": [
        "for item in a.values():\n",
        "  print(item)"
      ],
      "execution_count": 0,
      "outputs": [
        {
          "output_type": "stream",
          "text": [
            "{frozenset({'mustard'}), frozenset({'cat food'}), frozenset({'potted plants'}), frozenset({'beef'}), frozenset({'chewing gum'}), frozenset({'other vegetables'}), frozenset({'semi-finished bread'}), frozenset({'butter'}), frozenset({'salty snack'}), frozenset({'liquor'}), frozenset({'newspapers'}), frozenset({'hygiene articles'}), frozenset({'chocolate'}), frozenset({'specialty bar'}), frozenset({'UHT-milk'}), frozenset({'hard cheese'}), frozenset({'shopping bags'}), frozenset({'butter milk'}), frozenset({'cake bar'}), frozenset({'seasonal products'}), frozenset({'sugar'}), frozenset({'curd'}), frozenset({'root vegetables'}), frozenset({'chicken'}), frozenset({'ice cream'}), frozenset({'pip fruit'}), frozenset({'cream cheese'}), frozenset({'roll products'}), frozenset({'long life bakery product'}), frozenset({'coffee'}), frozenset({'beverages'}), frozenset({'oil'}), frozenset({'white wine'}), frozenset({'dessert'}), frozenset({'meat'}), frozenset({'fruit/vegetable juice'}), frozenset({'spread cheese'}), frozenset({'margarine'}), frozenset({'dishes'}), frozenset({'waffles'}), frozenset({'soda'}), frozenset({'canned beer'}), frozenset({'candy'}), frozenset({'frankfurter'}), frozenset({'misc. beverages'}), frozenset({'soft cheese'}), frozenset({'canned vegetables'}), frozenset({'frozen meals'}), frozenset({'condensed milk'}), frozenset({'red/blush wine'}), frozenset({'grapes'}), frozenset({'pork'}), frozenset({'sausage'}), frozenset({'berries'}), frozenset({'yogurt'}), frozenset({'cling film/bags'}), frozenset({'flower (seeds)'}), frozenset({'white bread'}), frozenset({'brown bread'}), frozenset({'ham'}), frozenset({'bottled water'}), frozenset({'packaged fruit/vegetables'}), frozenset({'detergent'}), frozenset({'pickled vegetables'}), frozenset({'whipped/sour cream'}), frozenset({'bottled beer'}), frozenset({'citrus fruit'}), frozenset({'specialty chocolate'}), frozenset({'baking powder'}), frozenset({'frozen vegetables'}), frozenset({'pastry'}), frozenset({'pasta'}), frozenset({'onions'}), frozenset({'frozen fish'}), frozenset({'tropical fruit'}), frozenset({'frozen dessert'}), frozenset({'napkins'}), frozenset({'processed cheese'}), frozenset({'canned fish'}), frozenset({'sliced cheese'}), frozenset({'whole milk'}), frozenset({'dish cleaner'}), frozenset({'herbs'}), frozenset({'hamburger meat'}), frozenset({'rolls/buns'}), frozenset({'salt'}), frozenset({'flour'}), frozenset({'domestic eggs'})}\n",
            "{frozenset({'butter', 'rolls/buns'}), frozenset({'pip fruit', 'root vegetables'}), frozenset({'sausage', 'yogurt'}), frozenset({'whole milk', 'bottled beer'}), frozenset({'tropical fruit', 'pastry'}), frozenset({'beef', 'rolls/buns'}), frozenset({'whole milk', 'frankfurter'}), frozenset({'newspapers', 'yogurt'}), frozenset({'whipped/sour cream', 'curd'}), frozenset({'whipped/sour cream', 'root vegetables'}), frozenset({'brown bread', 'rolls/buns'}), frozenset({'rolls/buns', 'pip fruit'}), frozenset({'pastry', 'other vegetables'}), frozenset({'whole milk', 'pastry'}), frozenset({'tropical fruit', 'fruit/vegetable juice'}), frozenset({'beef', 'root vegetables'}), frozenset({'whole milk', 'butter milk'}), frozenset({'whole milk', 'pork'}), frozenset({'soda', 'tropical fruit'}), frozenset({'frankfurter', 'soda'}), frozenset({'rolls/buns', 'root vegetables'}), frozenset({'beef', 'yogurt'}), frozenset({'soda', 'root vegetables'}), frozenset({'bottled water', 'yogurt'}), frozenset({'soda', 'pork'}), frozenset({'other vegetables', 'yogurt'}), frozenset({'citrus fruit', 'root vegetables'}), frozenset({'newspapers', 'root vegetables'}), frozenset({'rolls/buns', 'pork'}), frozenset({'whipped/sour cream', 'yogurt'}), frozenset({'whole milk', 'other vegetables'}), frozenset({'salty snack', 'other vegetables'}), frozenset({'rolls/buns', 'soda'}), frozenset({'yogurt', 'pip fruit'}), frozenset({'sausage', 'root vegetables'}), frozenset({'rolls/buns', 'newspapers'}), frozenset({'coffee', 'other vegetables'}), frozenset({'soda', 'chocolate'}), frozenset({'brown bread', 'yogurt'}), frozenset({'frozen vegetables', 'yogurt'}), frozenset({'bottled beer', 'bottled water'}), frozenset({'shopping bags', 'other vegetables'}), frozenset({'soda', 'whipped/sour cream'}), frozenset({'whole milk', 'shopping bags'}), frozenset({'bottled beer', 'other vegetables'}), frozenset({'brown bread', 'sausage'}), frozenset({'soda', 'bottled water'}), frozenset({'yogurt', 'root vegetables'}), frozenset({'butter', 'root vegetables'}), frozenset({'sausage', 'bottled water'}), frozenset({'sugar', 'whole milk'}), frozenset({'tropical fruit', 'citrus fruit'}), frozenset({'newspapers', 'tropical fruit'}), frozenset({'soda', 'yogurt'}), frozenset({'bottled water', 'root vegetables'}), frozenset({'citrus fruit', 'pip fruit'}), frozenset({'whole milk', 'napkins'}), frozenset({'fruit/vegetable juice', 'sausage'}), frozenset({'whole milk', 'cream cheese'}), frozenset({'margarine', 'root vegetables'}), frozenset({'rolls/buns', 'frozen vegetables'}), frozenset({'soda', 'sausage'}), frozenset({'rolls/buns', 'shopping bags'}), frozenset({'frankfurter', 'root vegetables'}), frozenset({'whole milk', 'salty snack'}), frozenset({'soda', 'shopping bags'}), frozenset({'citrus fruit', 'fruit/vegetable juice'}), frozenset({'whole milk', 'whipped/sour cream'}), frozenset({'whipped/sour cream', 'other vegetables'}), frozenset({'soda', 'bottled beer'}), frozenset({'rolls/buns', 'citrus fruit'}), frozenset({'soda', 'margarine'}), frozenset({'beef', 'other vegetables'}), frozenset({'tropical fruit', 'pip fruit'}), frozenset({'beef', 'whole milk'}), frozenset({'other vegetables', 'bottled water'}), frozenset({'pork', 'root vegetables'}), frozenset({'shopping bags', 'fruit/vegetable juice'}), frozenset({'soda', 'citrus fruit'}), frozenset({'tropical fruit', 'sausage'}), frozenset({'whole milk', 'hamburger meat'}), frozenset({'whole milk', 'hard cheese'}), frozenset({'newspapers', 'bottled water'}), frozenset({'rolls/buns', 'other vegetables'}), frozenset({'fruit/vegetable juice', 'bottled water'}), frozenset({'pastry', 'pip fruit'}), frozenset({'rolls/buns', 'whole milk'}), frozenset({'domestic eggs', 'yogurt'}), frozenset({'coffee', 'rolls/buns'}), frozenset({'tropical fruit', 'curd'}), frozenset({'tropical fruit', 'root vegetables'}), frozenset({'domestic eggs', 'tropical fruit'}), frozenset({'whole milk', 'citrus fruit'}), frozenset({'other vegetables', 'chocolate'}), frozenset({'whole milk', 'hygiene articles'}), frozenset({'soda', 'pip fruit'}), frozenset({'sugar', 'other vegetables'}), frozenset({'whole milk', 'root vegetables'}), frozenset({'other vegetables', 'root vegetables'}), frozenset({'frozen vegetables', 'other vegetables'}), frozenset({'rolls/buns', 'tropical fruit'}), frozenset({'whole milk', 'sausage'}), frozenset({'sausage', 'other vegetables'}), frozenset({'domestic eggs', 'soda'}), frozenset({'other vegetables', 'napkins'}), frozenset({'shopping bags', 'pastry'}), frozenset({'tropical fruit', 'bottled water'}), frozenset({'citrus fruit', 'sausage'}), frozenset({'rolls/buns', 'domestic eggs'}), frozenset({'other vegetables', 'cream cheese'}), frozenset({'tropical fruit', 'whipped/sour cream'}), frozenset({'whole milk', 'onions'}), frozenset({'domestic eggs', 'citrus fruit'}), frozenset({'bottled water', 'pip fruit'}), frozenset({'butter', 'yogurt'}), frozenset({'curd', 'root vegetables'}), frozenset({'chicken', 'root vegetables'}), frozenset({'butter', 'whole milk'}), frozenset({'soda', 'newspapers'}), frozenset({'soda', 'fruit/vegetable juice'}), frozenset({'rolls/buns', 'chocolate'}), frozenset({'tropical fruit', 'napkins'}), frozenset({'rolls/buns', 'fruit/vegetable juice'}), frozenset({'bottled water', 'margarine'}), frozenset({'whole milk', 'bottled water'}), frozenset({'brown bread', 'root vegetables'}), frozenset({'rolls/buns', 'whipped/sour cream'}), frozenset({'other vegetables', 'hamburger meat'}), frozenset({'citrus fruit', 'bottled water'}), frozenset({'dessert', 'other vegetables'}), frozenset({'whole milk', 'dessert'}), frozenset({'berries', 'yogurt'}), frozenset({'whole milk', 'fruit/vegetable juice'}), frozenset({'whipped/sour cream', 'citrus fruit'}), frozenset({'curd', 'yogurt'}), frozenset({'rolls/buns', 'bottled water'}), frozenset({'sausage', 'pip fruit'}), frozenset({'other vegetables', 'margarine'}), frozenset({'whole milk', 'margarine'}), frozenset({'whole milk', 'chocolate'}), frozenset({'berries', 'other vegetables'}), frozenset({'domestic eggs', 'whole milk'}), frozenset({'domestic eggs', 'other vegetables'}), frozenset({'citrus fruit', 'other vegetables'}), frozenset({'curd', 'other vegetables'}), frozenset({'citrus fruit', 'yogurt'}), frozenset({'brown bread', 'soda'}), frozenset({'soda', 'white bread'}), frozenset({'frozen vegetables', 'whole milk'}), frozenset({'tropical fruit', 'shopping bags'}), frozenset({'shopping bags', 'yogurt'}), frozenset({'other vegetables', 'pip fruit'}), frozenset({'whole milk', 'pip fruit'}), frozenset({'rolls/buns', 'pastry'}), frozenset({'rolls/buns', 'frankfurter'}), frozenset({'soda', 'pastry'}), frozenset({'rolls/buns', 'sausage'}), frozenset({'other vegetables', 'onions'}), frozenset({'whole milk', 'tropical fruit'}), frozenset({'tropical fruit', 'other vegetables'}), frozenset({'pastry', 'root vegetables'}), frozenset({'canned beer', 'rolls/buns'}), frozenset({'butter', 'whipped/sour cream'}), frozenset({'canned beer', 'soda'}), frozenset({'butter', 'other vegetables'}), frozenset({'tropical fruit', 'yogurt'}), frozenset({'pastry', 'sausage'}), frozenset({'napkins', 'yogurt'}), frozenset({'whole milk', 'long life bakery product'}), frozenset({'other vegetables', 'long life bakery product'}), frozenset({'whole milk', 'sliced cheese'}), frozenset({'rolls/buns', 'margarine'}), frozenset({'yogurt', 'cream cheese'}), frozenset({'whole milk', 'oil'}), frozenset({'waffles', 'other vegetables'}), frozenset({'soda', 'other vegetables'}), frozenset({'whole milk', 'soda'}), frozenset({'newspapers', 'other vegetables'}), frozenset({'whole milk', 'newspapers'}), frozenset({'frankfurter', 'yogurt'}), frozenset({'rolls/buns', 'bottled beer'}), frozenset({'shopping bags', 'bottled water'}), frozenset({'fruit/vegetable juice', 'other vegetables'}), frozenset({'pastry', 'yogurt'}), frozenset({'frankfurter', 'other vegetables'}), frozenset({'soda', 'napkins'}), frozenset({'whole milk', 'berries'}), frozenset({'fruit/vegetable juice', 'yogurt'}), frozenset({'whole milk', 'curd'}), frozenset({'yogurt', 'margarine'}), frozenset({'rolls/buns', 'napkins'}), frozenset({'whole milk', 'chicken'}), frozenset({'chicken', 'other vegetables'}), frozenset({'other vegetables', 'butter milk'}), frozenset({'pork', 'other vegetables'}), frozenset({'rolls/buns', 'yogurt'}), frozenset({'rolls/buns', 'curd'}), frozenset({'shopping bags', 'root vegetables'}), frozenset({'whole milk', 'white bread'}), frozenset({'brown bread', 'whole milk'}), frozenset({'white bread', 'other vegetables'}), frozenset({'brown bread', 'other vegetables'}), frozenset({'whole milk', 'yogurt'}), frozenset({'shopping bags', 'sausage'}), frozenset({'fruit/vegetable juice', 'root vegetables'}), frozenset({'canned beer', 'shopping bags'}), frozenset({'domestic eggs', 'root vegetables'}), frozenset({'brown bread', 'tropical fruit'}), frozenset({'frozen vegetables', 'root vegetables'}), frozenset({'coffee', 'whole milk'}), frozenset({'frankfurter', 'sausage'}), frozenset({'ham', 'whole milk'}), frozenset({'whole milk', 'waffles'})}\n",
            "{frozenset({'whole milk', 'pastry', 'other vegetables'}), frozenset({'tropical fruit', 'other vegetables', 'root vegetables'}), frozenset({'whole milk', 'other vegetables', 'pip fruit'}), frozenset({'domestic eggs', 'whole milk', 'other vegetables'}), frozenset({'root vegetables', 'other vegetables', 'yogurt'}), frozenset({'whole milk', 'yogurt', 'root vegetables'}), frozenset({'whipped/sour cream', 'other vegetables', 'yogurt'}), frozenset({'whole milk', 'other vegetables', 'bottled water'}), frozenset({'whole milk', 'whipped/sour cream', 'yogurt'}), frozenset({'whole milk', 'fruit/vegetable juice', 'other vegetables'}), frozenset({'whole milk', 'pork', 'other vegetables'}), frozenset({'whole milk', 'other vegetables', 'root vegetables'}), frozenset({'whole milk', 'citrus fruit', 'yogurt'}), frozenset({'whole milk', 'whipped/sour cream', 'other vegetables'}), frozenset({'rolls/buns', 'whole milk', 'other vegetables'}), frozenset({'soda', 'whole milk', 'other vegetables'}), frozenset({'rolls/buns', 'whole milk', 'yogurt'}), frozenset({'whole milk', 'citrus fruit', 'other vegetables'}), frozenset({'rolls/buns', 'other vegetables', 'yogurt'}), frozenset({'whole milk', 'other vegetables', 'yogurt'}), frozenset({'whole milk', 'soda', 'yogurt'}), frozenset({'rolls/buns', 'other vegetables', 'root vegetables'}), frozenset({'whole milk', 'curd', 'yogurt'}), frozenset({'citrus fruit', 'other vegetables', 'root vegetables'}), frozenset({'tropical fruit', 'other vegetables', 'yogurt'}), frozenset({'whole milk', 'tropical fruit', 'yogurt'}), frozenset({'rolls/buns', 'whole milk', 'root vegetables'}), frozenset({'whole milk', 'tropical fruit', 'other vegetables'}), frozenset({'whole milk', 'sausage', 'other vegetables'}), frozenset({'rolls/buns', 'whole milk', 'tropical fruit'}), frozenset({'whole milk', 'tropical fruit', 'root vegetables'}), frozenset({'butter', 'whole milk', 'other vegetables'})}\n",
            "set()\n"
          ],
          "name": "stdout"
        }
      ]
    },
    {
      "metadata": {
        "id": "l0dMX8UB21zf",
        "colab_type": "code",
        "colab": {}
      },
      "cell_type": "code",
      "source": [
        "class FPNode(object):\n",
        "    def __init__(self, tree, item, count=1):\n",
        "        self._tree = tree\n",
        "        self._item = item\n",
        "        self._count = count\n",
        "        self._parent = None\n",
        "        self._children = {}\n",
        "        self._neighbor = None\n",
        "\n",
        "    def add(self, child):\n",
        "        if not isinstance(child, FPNode):\n",
        "            raise TypeError(\"Can only add other FPNodes as children\")\n",
        "\n",
        "        if not child.item in self._children:\n",
        "            self._children[child.item] = child\n",
        "            child.parent = self\n",
        "\n",
        "    def search(self, item):\n",
        "        \"\"\"\n",
        "        Check whether this node contains a child node for the given item.\n",
        "        If so, that node is returned; otherwise, `None` is returned.\n",
        "        \"\"\"\n",
        "        try:\n",
        "            return self._children[item]\n",
        "        except KeyError:\n",
        "            return None\n",
        "\n",
        "    def __contains__(self, item):\n",
        "        return item in self._children\n",
        "\n",
        "    @property\n",
        "    def tree(self):\n",
        "        \"\"\"The tree in which this node appears.\"\"\"\n",
        "        return self._tree\n",
        "\n",
        "    @property\n",
        "    def item(self):\n",
        "        \"\"\"The item contained in this node.\"\"\"\n",
        "        return self._item\n",
        "\n",
        "    @property\n",
        "    def count(self):\n",
        "        \"\"\"The count associated with this node's item.\"\"\"\n",
        "        return self._count\n",
        "\n",
        "    def increment(self):\n",
        "        \"\"\"Increment the count associated with this node's item.\"\"\"\n",
        "        if self._count is None:\n",
        "            raise ValueError(\"Root nodes have no associated count.\")\n",
        "        self._count += 1\n",
        "\n",
        "    @property\n",
        "    def root(self):\n",
        "        \"\"\"True if this node is the root of a tree; false if otherwise.\"\"\"\n",
        "        return self._item is None and self._count is None\n",
        "\n",
        "    @property\n",
        "    def leaf(self):\n",
        "        \"\"\"True if this node is a leaf in the tree; false if otherwise.\"\"\"\n",
        "        return len(self._children) == 0\n",
        "\n",
        "    @property\n",
        "    def parent(self):\n",
        "        \"\"\"The node's parent\"\"\"\n",
        "        return self._parent\n",
        "\n",
        "    @parent.setter\n",
        "    def parent(self, value):\n",
        "        if value is not None and not isinstance(value, FPNode):\n",
        "            raise TypeError(\"A node must have an FPNode as a parent.\")\n",
        "        if value and value.tree is not self.tree:\n",
        "            raise ValueError(\"Cannot have a parent from another tree.\")\n",
        "        self._parent = value\n",
        "\n",
        "    @property\n",
        "    def neighbor(self):\n",
        "        \"\"\"\n",
        "        The node's neighbor; the one with the same value that is \"to the right\"\n",
        "        of it in the tree.\n",
        "        \"\"\"\n",
        "        return self._neighbor\n",
        "\n",
        "    @neighbor.setter\n",
        "    def neighbor(self, value):\n",
        "        if value is not None and not isinstance(value, FPNode):\n",
        "            raise TypeError(\"A node must have an FPNode as a neighbor.\")\n",
        "        if value and value.tree is not self.tree:\n",
        "            raise ValueError(\"Cannot have a neighbor from another tree.\")\n",
        "        self._neighbor = value\n",
        "\n",
        "    @property\n",
        "    def children(self):\n",
        "        \"\"\"The nodes that are children of this node.\"\"\"\n",
        "        return tuple(self._children.values())\n",
        "\n",
        "    def inspect(self, depth=0):\n",
        "        print ('  ' * depth) + repr(self)\n",
        "        for child in self.children:\n",
        "            child.inspect(depth + 1)\n",
        "\n",
        "    def __repr__(self):\n",
        "        if self.root:\n",
        "            return \"<%s (root)>\" % type(self).__name__\n",
        "        return \"<%s %r (%r)>\" % (type(self).__name__, self.item, self.count)\n",
        "\n"
      ],
      "execution_count": 0,
      "outputs": []
    },
    {
      "metadata": {
        "id": "a3z9W607Cd_m",
        "colab_type": "code",
        "colab": {}
      },
      "cell_type": "code",
      "source": [
        "class FPTree(object):\n",
        "\n",
        "    Route = namedtuple('Route', 'head tail')\n",
        "\n",
        "    def __init__(self):\n",
        "        # The root node of the tree.\n",
        "        self._root = FPNode(self, None, None)\n",
        "\n",
        "        # A dictionary mapping items to the head and tail of a path of\n",
        "        # \"neighbors\" that will hit every node containing that item.\n",
        "        self._routes = {}\n",
        "\n",
        "    @property\n",
        "    def root(self):\n",
        "        \"\"\"The root node of the tree.\"\"\"\n",
        "        return self._root\n",
        "\n",
        "    def add(self, transaction):\n",
        "        \"\"\"Add a transaction to the tree.\"\"\"\n",
        "        point = self._root\n",
        "\n",
        "        for item in transaction:\n",
        "            next_point = point.search(item)\n",
        "            if next_point:\n",
        "                # There is already a node in this tree for the current\n",
        "                # transaction item; reuse it.\n",
        "                next_point.increment()\n",
        "            else:\n",
        "                # Create a new point and add it as a child of the point we're\n",
        "                # currently looking at.\n",
        "                next_point = FPNode(self, item)\n",
        "                point.add(next_point)\n",
        "\n",
        "                # Update the route of nodes that contain this item to include\n",
        "                # our new node.\n",
        "                self._update_route(next_point)\n",
        "\n",
        "            point = next_point\n",
        "\n",
        "    def _update_route(self, point):\n",
        "        \"\"\"Add the given node to the route through all nodes for its item.\"\"\"\n",
        "        assert self is point.tree\n",
        "\n",
        "        try:\n",
        "            route = self._routes[point.item]\n",
        "            route[1].neighbor = point # route[1] is the tail\n",
        "            self._routes[point.item] = self.Route(route[0], point)\n",
        "        except KeyError:\n",
        "            # First node for this item; start a new route.\n",
        "            self._routes[point.item] = self.Route(point, point)\n",
        "\n",
        "    def items(self):\n",
        "        \"\"\"\n",
        "        Generate one 2-tuples for each item represented in the tree. The first\n",
        "        element of the tuple is the item itself, and the second element is a\n",
        "        generator that will yield the nodes in the tree that belong to the item.\n",
        "        \"\"\"\n",
        "        for item in self._routes.iterkeys():\n",
        "            yield (item, self.nodes(item))\n",
        "\n",
        "    def nodes(self, item):\n",
        "        \"\"\"\n",
        "        Generate the sequence of nodes that contain the given item.\n",
        "        \"\"\"\n",
        "\n",
        "        try:\n",
        "            node = self._routes[item][0]\n",
        "        except KeyError:\n",
        "            return\n",
        "\n",
        "        while node:\n",
        "            yield node\n",
        "            node = node.neighbor\n",
        "\n",
        "    def prefix_paths(self, item):\n",
        "        \"\"\"Generate the prefix paths that end with the given item.\"\"\"\n",
        "\n",
        "        def collect_path(node):\n",
        "            path = []\n",
        "            while node and not node.root:\n",
        "                path.append(node)\n",
        "                node = node.parent\n",
        "            path.reverse()\n",
        "            return path\n",
        "\n",
        "        return (collect_path(node) for node in self.nodes(item))\n",
        "\n",
        "    def inspect(self):\n",
        "        print 'Tree:'\n",
        "        self.root.inspect(1)\n",
        "\n",
        "        print\n",
        "        print 'Routes:'\n",
        "        for item, nodes in self.items():\n",
        "            print '  %r' % item\n",
        "            for node in nodes:\n",
        "                print '    %r' % node"
      ],
      "execution_count": 0,
      "outputs": []
    },
    {
      "metadata": {
        "id": "wBBaWALYfNes",
        "colab_type": "code",
        "colab": {}
      },
      "cell_type": "code",
      "source": [
        "min_support = 0.01\n",
        "min_confidence = 0.5\n",
        "support_count = {}\n",
        "for transaction in transactions:\n",
        "  for item in transaction:\n",
        "    if(item in support_count):\n",
        "      support_count[item] += 1\n",
        "    else:\n",
        "      support_count[item] = 1\n",
        "      \n",
        "for key in list(support_count):\n",
        "    if(support_count[key] < min_support * len(transactions)):\n",
        "      del support_count[key]\n",
        "      \n",
        "support_count = sorted( ((v,k) for k,v in support_count.items()), reverse=True)\n",
        "\n",
        "transaction_list = []\n",
        "\n",
        "for i in range(len(transactions)):\n",
        "  for j in list(transactions[i]):\n",
        "    temp = []\n",
        "    if j in support_count:\n",
        "      temp.append(j)\n",
        "#     temp = [x for _, x in sorted(zip(support_count,temp), key=lambda pair: pair[0])]\n",
        "    transaction_list.append(temp)  \n",
        "\n",
        "\n",
        " "
      ],
      "execution_count": 0,
      "outputs": []
    }
  ]
}